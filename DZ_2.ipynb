{
 "cells": [
  {
   "cell_type": "code",
   "execution_count": 13,
   "id": "1c262230",
   "metadata": {},
   "outputs": [],
   "source": [
    "import sympy\n",
    "import math"
   ]
  },
  {
   "cell_type": "markdown",
   "id": "454aa7ad",
   "metadata": {},
   "source": [
    "№ 4"
   ]
  },
  {
   "cell_type": "code",
   "execution_count": 8,
   "id": "307cb8e2",
   "metadata": {},
   "outputs": [],
   "source": [
    "def summ_ln(n):\n",
    "    summa = 0\n",
    "    for i in range(1, n + 1):\n",
    "        summa += math.log(i)\n",
    "    return summa "
   ]
  },
  {
   "cell_type": "code",
   "execution_count": 9,
   "id": "3bcf6f76",
   "metadata": {},
   "outputs": [
    {
     "data": {
      "text/plain": [
       "0.6931471805599453"
      ]
     },
     "execution_count": 9,
     "metadata": {},
     "output_type": "execute_result"
    }
   ],
   "source": [
    "summ_ln(2)"
   ]
  },
  {
   "cell_type": "markdown",
   "id": "04686e53",
   "metadata": {},
   "source": [
    "№ 5"
   ]
  },
  {
   "cell_type": "code",
   "execution_count": 25,
   "id": "e62cf65b",
   "metadata": {},
   "outputs": [],
   "source": [
    "def product_in_ln(n):\n",
    "    product = 1\n",
    "    for i in range(1, n + 1):\n",
    "        product *= i\n",
    "    return math.log(product)"
   ]
  },
  {
   "cell_type": "code",
   "execution_count": 27,
   "id": "bd25a2b4",
   "metadata": {},
   "outputs": [
    {
     "data": {
      "text/plain": [
       "0.6931471805599453"
      ]
     },
     "execution_count": 27,
     "metadata": {},
     "output_type": "execute_result"
    }
   ],
   "source": [
    "product_in_ln(2)"
   ]
  },
  {
   "cell_type": "markdown",
   "id": "8c6464f4",
   "metadata": {},
   "source": [
    "Данные функции сопоставимы, тк по свойсвту логарифмов: сумма логарифмов по одинаковому основанию равна логарифму от произведения всех аргументов по тому же основанию\n"
   ]
  }
 ],
 "metadata": {
  "kernelspec": {
   "display_name": "Python 3 (ipykernel)",
   "language": "python",
   "name": "python3"
  },
  "language_info": {
   "codemirror_mode": {
    "name": "ipython",
    "version": 3
   },
   "file_extension": ".py",
   "mimetype": "text/x-python",
   "name": "python",
   "nbconvert_exporter": "python",
   "pygments_lexer": "ipython3",
   "version": "3.9.7"
  }
 },
 "nbformat": 4,
 "nbformat_minor": 5
}
